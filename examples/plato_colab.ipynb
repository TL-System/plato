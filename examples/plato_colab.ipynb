{
  "nbformat": 4,
  "nbformat_minor": 0,
  "metadata": {
    "colab": {
      "name": "plato-colab.ipynb",
      "provenance": [],
      "collapsed_sections": []
    },
    "kernelspec": {
      "name": "python3",
      "display_name": "Python 3"
    },
    "language_info": {
      "name": "python"
    },
    "accelerator": "GPU"
  },
  "cells": [
    {
      "cell_type": "markdown",
      "metadata": {
        "id": "olul0mnbnLoL"
      },
      "source": [
        "# Running Plato on Google Colaboratory\n",
        "\n",
        "## 1. Preparation\n",
        "\n",
        "### Activate GPU support\n",
        "\n",
        "To activate GPU support, click on `Runtime > Change runtime type` in the notebook menu and choose `GPU` as the hardware accelerator. To check whether the GPU is available for computation, we import the deep learning framework [PyTorch](https://pytorch.org/):"
      ]
    },
    {
      "cell_type": "code",
      "metadata": {
        "id": "2RB_ZJrZmugO"
      },
      "source": [
        "import torch\n",
        "torch.cuda.is_available()"
      ],
      "execution_count": null,
      "outputs": []
    },
    {
      "cell_type": "markdown",
      "metadata": {
        "id": "SkkBTKHtuTVy"
      },
      "source": [
        "If successful, the output of the cell above should print `True`.\n",
        "\n",
        "### Use Google Drive\n",
        "\n",
        "Note that colab deletes any files you’ve downloaded or created when you end a session. The best option is to use Github to store your code, and Google Drive to store datasets, logs, and anything else that would normally reside on your filesystem but wouldn’t be tracked by git.\n",
        "\n",
        "When you run the code above, you will need to click a link and follow a process that takes about 30 seconds. When complete all of your drive files will be available via ‘/content/drive’ on your Colab instance, and this will allow you to structure your projects in the same way you would if you were using a cloud server. "
      ]
    },
    {
      "cell_type": "code",
      "metadata": {
        "id": "z5gW8LQivFHs"
      },
      "source": [
        "from google.colab import drive\n",
        "drive.mount('/content/drive')\n",
        "\n",
        "%cd drive/MyDrive/"
      ],
      "execution_count": null,
      "outputs": []
    },
    {
      "cell_type": "markdown",
      "metadata": {
        "id": "5xlN-jMfoEpp"
      },
      "source": [
        "## 2. Installing Plato with PyTorch\n",
        "\n",
        "Clone the Plato private repository in to the Google drive. A safer option here is to create a [personal access token](https://github.com/settings/tokens) and select only privileges that your application needs. Below is the clone command. Please change it to your own username and token before running it and do not forget to change it back before sharing this notebook with others."
      ]
    },
    {
      "cell_type": "code",
      "metadata": {
        "id": "P175hLMavyOg"
      },
      "source": [
        "!git clone https://<username>:<git_token>@github.com/TL-System/plato.git"
      ],
      "execution_count": null,
      "outputs": []
    },
    {
      "cell_type": "markdown",
      "metadata": {
        "id": "barbbjpfZGy-"
      },
      "source": [
        "Install required packages that are not installed in colab:"
      ]
    },
    {
      "cell_type": "code",
      "metadata": {
        "id": "tCUSaI9fXAjB"
      },
      "source": [
        "!pip install wandb\n",
        "!pip install datasets\n",
        "!pip install -U PyYAML\n",
        "!pip install websockets"
      ],
      "execution_count": null,
      "outputs": []
    },
    {
      "cell_type": "markdown",
      "metadata": {
        "id": "cTfvXkYC1j45"
      },
      "source": [
        "Change the permissions on `plato` directory:"
      ]
    },
    {
      "cell_type": "code",
      "metadata": {
        "id": "oW6q5XWi1v4i"
      },
      "source": [
        "!chmod 755 -R plato/\n",
        "%cd plato/"
      ],
      "execution_count": null,
      "outputs": []
    },
    {
      "cell_type": "markdown",
      "metadata": {
        "id": "YKRnIwDPZd9C"
      },
      "source": [
        "## 3. Running Plato\n",
        "\n",
        "To start a federated learning training workload, run `run` from the Plato repository's root directory. For example:"
      ]
    },
    {
      "cell_type": "code",
      "metadata": {
        "id": "ivm8dSigaV7Y"
      },
      "source": [
        "!./run --config=./configs/MNIST/colab_sample.yml"
      ],
      "execution_count": null,
      "outputs": []
    },
    {
      "cell_type": "markdown",
      "metadata": {
        "id": "Jv1jzv0Ynd17"
      },
      "source": [
        "This `colab_sample.yml` is a sample configuration files designed for running Plato on Google Colaboratory. Other configuration files under `plato/configs/` could also be used here, but need to change server's address from `localhost` to `0.0.0.0` to avoid address binding errors.\n"
      ]
    }
  ]
}